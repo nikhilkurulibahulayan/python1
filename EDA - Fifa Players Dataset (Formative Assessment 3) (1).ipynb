{
 "cells": [
  {
   "cell_type": "code",
   "execution_count": 1,
   "id": "3565e98a-840f-4901-9da8-561681cce7ed",
   "metadata": {},
   "outputs": [],
   "source": [
    "import numpy as np"
   ]
  },
  {
   "cell_type": "code",
   "execution_count": 2,
   "id": "d89e62bd-73de-4fe3-8341-5f24d76c884d",
   "metadata": {},
   "outputs": [],
   "source": [
    "import pandas as pd"
   ]
  },
  {
   "cell_type": "code",
   "execution_count": 3,
   "id": "dac5375e-66ac-48ec-8ceb-c4ffc6e0f664",
   "metadata": {},
   "outputs": [
    {
     "data": {
      "text/html": [
       "<div>\n",
       "<style scoped>\n",
       "    .dataframe tbody tr th:only-of-type {\n",
       "        vertical-align: middle;\n",
       "    }\n",
       "\n",
       "    .dataframe tbody tr th {\n",
       "        vertical-align: top;\n",
       "    }\n",
       "\n",
       "    .dataframe thead th {\n",
       "        text-align: right;\n",
       "    }\n",
       "</style>\n",
       "<table border=\"1\" class=\"dataframe\">\n",
       "  <thead>\n",
       "    <tr style=\"text-align: right;\">\n",
       "      <th></th>\n",
       "      <th>Unnamed: 0</th>\n",
       "      <th>ID</th>\n",
       "      <th>Name</th>\n",
       "      <th>Age</th>\n",
       "      <th>Photo</th>\n",
       "      <th>Nationality</th>\n",
       "      <th>Flag</th>\n",
       "      <th>Overall</th>\n",
       "      <th>Potential</th>\n",
       "      <th>Club</th>\n",
       "      <th>...</th>\n",
       "      <th>Composure</th>\n",
       "      <th>Marking</th>\n",
       "      <th>StandingTackle</th>\n",
       "      <th>SlidingTackle</th>\n",
       "      <th>GKDiving</th>\n",
       "      <th>GKHandling</th>\n",
       "      <th>GKKicking</th>\n",
       "      <th>GKPositioning</th>\n",
       "      <th>GKReflexes</th>\n",
       "      <th>Release Clause</th>\n",
       "    </tr>\n",
       "  </thead>\n",
       "  <tbody>\n",
       "    <tr>\n",
       "      <th>0</th>\n",
       "      <td>0</td>\n",
       "      <td>158023</td>\n",
       "      <td>L. Messi</td>\n",
       "      <td>31</td>\n",
       "      <td>https://cdn.sofifa.org/players/4/19/158023.png</td>\n",
       "      <td>Argentina</td>\n",
       "      <td>https://cdn.sofifa.org/flags/52.png</td>\n",
       "      <td>94</td>\n",
       "      <td>94</td>\n",
       "      <td>FC Barcelona</td>\n",
       "      <td>...</td>\n",
       "      <td>96.0</td>\n",
       "      <td>33.0</td>\n",
       "      <td>28.0</td>\n",
       "      <td>26.0</td>\n",
       "      <td>6.0</td>\n",
       "      <td>11.0</td>\n",
       "      <td>15.0</td>\n",
       "      <td>14.0</td>\n",
       "      <td>8.0</td>\n",
       "      <td>€226.5M</td>\n",
       "    </tr>\n",
       "    <tr>\n",
       "      <th>1</th>\n",
       "      <td>1</td>\n",
       "      <td>20801</td>\n",
       "      <td>Cristiano Ronaldo</td>\n",
       "      <td>33</td>\n",
       "      <td>https://cdn.sofifa.org/players/4/19/20801.png</td>\n",
       "      <td>Portugal</td>\n",
       "      <td>https://cdn.sofifa.org/flags/38.png</td>\n",
       "      <td>94</td>\n",
       "      <td>94</td>\n",
       "      <td>Juventus</td>\n",
       "      <td>...</td>\n",
       "      <td>95.0</td>\n",
       "      <td>28.0</td>\n",
       "      <td>31.0</td>\n",
       "      <td>23.0</td>\n",
       "      <td>7.0</td>\n",
       "      <td>11.0</td>\n",
       "      <td>15.0</td>\n",
       "      <td>14.0</td>\n",
       "      <td>11.0</td>\n",
       "      <td>€127.1M</td>\n",
       "    </tr>\n",
       "    <tr>\n",
       "      <th>2</th>\n",
       "      <td>2</td>\n",
       "      <td>190871</td>\n",
       "      <td>Neymar Jr</td>\n",
       "      <td>26</td>\n",
       "      <td>https://cdn.sofifa.org/players/4/19/190871.png</td>\n",
       "      <td>Brazil</td>\n",
       "      <td>https://cdn.sofifa.org/flags/54.png</td>\n",
       "      <td>92</td>\n",
       "      <td>93</td>\n",
       "      <td>Paris Saint-Germain</td>\n",
       "      <td>...</td>\n",
       "      <td>94.0</td>\n",
       "      <td>27.0</td>\n",
       "      <td>24.0</td>\n",
       "      <td>33.0</td>\n",
       "      <td>9.0</td>\n",
       "      <td>9.0</td>\n",
       "      <td>15.0</td>\n",
       "      <td>15.0</td>\n",
       "      <td>11.0</td>\n",
       "      <td>€228.1M</td>\n",
       "    </tr>\n",
       "    <tr>\n",
       "      <th>3</th>\n",
       "      <td>3</td>\n",
       "      <td>193080</td>\n",
       "      <td>De Gea</td>\n",
       "      <td>27</td>\n",
       "      <td>https://cdn.sofifa.org/players/4/19/193080.png</td>\n",
       "      <td>Spain</td>\n",
       "      <td>https://cdn.sofifa.org/flags/45.png</td>\n",
       "      <td>91</td>\n",
       "      <td>93</td>\n",
       "      <td>Manchester United</td>\n",
       "      <td>...</td>\n",
       "      <td>68.0</td>\n",
       "      <td>15.0</td>\n",
       "      <td>21.0</td>\n",
       "      <td>13.0</td>\n",
       "      <td>90.0</td>\n",
       "      <td>85.0</td>\n",
       "      <td>87.0</td>\n",
       "      <td>88.0</td>\n",
       "      <td>94.0</td>\n",
       "      <td>€138.6M</td>\n",
       "    </tr>\n",
       "    <tr>\n",
       "      <th>4</th>\n",
       "      <td>4</td>\n",
       "      <td>192985</td>\n",
       "      <td>K. De Bruyne</td>\n",
       "      <td>27</td>\n",
       "      <td>https://cdn.sofifa.org/players/4/19/192985.png</td>\n",
       "      <td>Belgium</td>\n",
       "      <td>https://cdn.sofifa.org/flags/7.png</td>\n",
       "      <td>91</td>\n",
       "      <td>92</td>\n",
       "      <td>Manchester City</td>\n",
       "      <td>...</td>\n",
       "      <td>88.0</td>\n",
       "      <td>68.0</td>\n",
       "      <td>58.0</td>\n",
       "      <td>51.0</td>\n",
       "      <td>15.0</td>\n",
       "      <td>13.0</td>\n",
       "      <td>5.0</td>\n",
       "      <td>10.0</td>\n",
       "      <td>13.0</td>\n",
       "      <td>€196.4M</td>\n",
       "    </tr>\n",
       "    <tr>\n",
       "      <th>...</th>\n",
       "      <td>...</td>\n",
       "      <td>...</td>\n",
       "      <td>...</td>\n",
       "      <td>...</td>\n",
       "      <td>...</td>\n",
       "      <td>...</td>\n",
       "      <td>...</td>\n",
       "      <td>...</td>\n",
       "      <td>...</td>\n",
       "      <td>...</td>\n",
       "      <td>...</td>\n",
       "      <td>...</td>\n",
       "      <td>...</td>\n",
       "      <td>...</td>\n",
       "      <td>...</td>\n",
       "      <td>...</td>\n",
       "      <td>...</td>\n",
       "      <td>...</td>\n",
       "      <td>...</td>\n",
       "      <td>...</td>\n",
       "      <td>...</td>\n",
       "    </tr>\n",
       "    <tr>\n",
       "      <th>18202</th>\n",
       "      <td>18202</td>\n",
       "      <td>238813</td>\n",
       "      <td>J. Lundstram</td>\n",
       "      <td>19</td>\n",
       "      <td>https://cdn.sofifa.org/players/4/19/238813.png</td>\n",
       "      <td>England</td>\n",
       "      <td>https://cdn.sofifa.org/flags/14.png</td>\n",
       "      <td>47</td>\n",
       "      <td>65</td>\n",
       "      <td>Crewe Alexandra</td>\n",
       "      <td>...</td>\n",
       "      <td>45.0</td>\n",
       "      <td>40.0</td>\n",
       "      <td>48.0</td>\n",
       "      <td>47.0</td>\n",
       "      <td>10.0</td>\n",
       "      <td>13.0</td>\n",
       "      <td>7.0</td>\n",
       "      <td>8.0</td>\n",
       "      <td>9.0</td>\n",
       "      <td>€143K</td>\n",
       "    </tr>\n",
       "    <tr>\n",
       "      <th>18203</th>\n",
       "      <td>18203</td>\n",
       "      <td>243165</td>\n",
       "      <td>N. Christoffersson</td>\n",
       "      <td>19</td>\n",
       "      <td>https://cdn.sofifa.org/players/4/19/243165.png</td>\n",
       "      <td>Sweden</td>\n",
       "      <td>https://cdn.sofifa.org/flags/46.png</td>\n",
       "      <td>47</td>\n",
       "      <td>63</td>\n",
       "      <td>Trelleborgs FF</td>\n",
       "      <td>...</td>\n",
       "      <td>42.0</td>\n",
       "      <td>22.0</td>\n",
       "      <td>15.0</td>\n",
       "      <td>19.0</td>\n",
       "      <td>10.0</td>\n",
       "      <td>9.0</td>\n",
       "      <td>9.0</td>\n",
       "      <td>5.0</td>\n",
       "      <td>12.0</td>\n",
       "      <td>€113K</td>\n",
       "    </tr>\n",
       "    <tr>\n",
       "      <th>18204</th>\n",
       "      <td>18204</td>\n",
       "      <td>241638</td>\n",
       "      <td>B. Worman</td>\n",
       "      <td>16</td>\n",
       "      <td>https://cdn.sofifa.org/players/4/19/241638.png</td>\n",
       "      <td>England</td>\n",
       "      <td>https://cdn.sofifa.org/flags/14.png</td>\n",
       "      <td>47</td>\n",
       "      <td>67</td>\n",
       "      <td>Cambridge United</td>\n",
       "      <td>...</td>\n",
       "      <td>41.0</td>\n",
       "      <td>32.0</td>\n",
       "      <td>13.0</td>\n",
       "      <td>11.0</td>\n",
       "      <td>6.0</td>\n",
       "      <td>5.0</td>\n",
       "      <td>10.0</td>\n",
       "      <td>6.0</td>\n",
       "      <td>13.0</td>\n",
       "      <td>€165K</td>\n",
       "    </tr>\n",
       "    <tr>\n",
       "      <th>18205</th>\n",
       "      <td>18205</td>\n",
       "      <td>246268</td>\n",
       "      <td>D. Walker-Rice</td>\n",
       "      <td>17</td>\n",
       "      <td>https://cdn.sofifa.org/players/4/19/246268.png</td>\n",
       "      <td>England</td>\n",
       "      <td>https://cdn.sofifa.org/flags/14.png</td>\n",
       "      <td>47</td>\n",
       "      <td>66</td>\n",
       "      <td>Tranmere Rovers</td>\n",
       "      <td>...</td>\n",
       "      <td>46.0</td>\n",
       "      <td>20.0</td>\n",
       "      <td>25.0</td>\n",
       "      <td>27.0</td>\n",
       "      <td>14.0</td>\n",
       "      <td>6.0</td>\n",
       "      <td>14.0</td>\n",
       "      <td>8.0</td>\n",
       "      <td>9.0</td>\n",
       "      <td>€143K</td>\n",
       "    </tr>\n",
       "    <tr>\n",
       "      <th>18206</th>\n",
       "      <td>18206</td>\n",
       "      <td>246269</td>\n",
       "      <td>G. Nugent</td>\n",
       "      <td>16</td>\n",
       "      <td>https://cdn.sofifa.org/players/4/19/246269.png</td>\n",
       "      <td>England</td>\n",
       "      <td>https://cdn.sofifa.org/flags/14.png</td>\n",
       "      <td>46</td>\n",
       "      <td>66</td>\n",
       "      <td>Tranmere Rovers</td>\n",
       "      <td>...</td>\n",
       "      <td>43.0</td>\n",
       "      <td>40.0</td>\n",
       "      <td>43.0</td>\n",
       "      <td>50.0</td>\n",
       "      <td>10.0</td>\n",
       "      <td>15.0</td>\n",
       "      <td>9.0</td>\n",
       "      <td>12.0</td>\n",
       "      <td>9.0</td>\n",
       "      <td>€165K</td>\n",
       "    </tr>\n",
       "  </tbody>\n",
       "</table>\n",
       "<p>18207 rows × 89 columns</p>\n",
       "</div>"
      ],
      "text/plain": [
       "       Unnamed: 0      ID                Name  Age  \\\n",
       "0               0  158023            L. Messi   31   \n",
       "1               1   20801   Cristiano Ronaldo   33   \n",
       "2               2  190871           Neymar Jr   26   \n",
       "3               3  193080              De Gea   27   \n",
       "4               4  192985        K. De Bruyne   27   \n",
       "...           ...     ...                 ...  ...   \n",
       "18202       18202  238813        J. Lundstram   19   \n",
       "18203       18203  243165  N. Christoffersson   19   \n",
       "18204       18204  241638           B. Worman   16   \n",
       "18205       18205  246268      D. Walker-Rice   17   \n",
       "18206       18206  246269           G. Nugent   16   \n",
       "\n",
       "                                                Photo Nationality  \\\n",
       "0      https://cdn.sofifa.org/players/4/19/158023.png   Argentina   \n",
       "1       https://cdn.sofifa.org/players/4/19/20801.png    Portugal   \n",
       "2      https://cdn.sofifa.org/players/4/19/190871.png      Brazil   \n",
       "3      https://cdn.sofifa.org/players/4/19/193080.png       Spain   \n",
       "4      https://cdn.sofifa.org/players/4/19/192985.png     Belgium   \n",
       "...                                               ...         ...   \n",
       "18202  https://cdn.sofifa.org/players/4/19/238813.png     England   \n",
       "18203  https://cdn.sofifa.org/players/4/19/243165.png      Sweden   \n",
       "18204  https://cdn.sofifa.org/players/4/19/241638.png     England   \n",
       "18205  https://cdn.sofifa.org/players/4/19/246268.png     England   \n",
       "18206  https://cdn.sofifa.org/players/4/19/246269.png     England   \n",
       "\n",
       "                                      Flag  Overall  Potential  \\\n",
       "0      https://cdn.sofifa.org/flags/52.png       94         94   \n",
       "1      https://cdn.sofifa.org/flags/38.png       94         94   \n",
       "2      https://cdn.sofifa.org/flags/54.png       92         93   \n",
       "3      https://cdn.sofifa.org/flags/45.png       91         93   \n",
       "4       https://cdn.sofifa.org/flags/7.png       91         92   \n",
       "...                                    ...      ...        ...   \n",
       "18202  https://cdn.sofifa.org/flags/14.png       47         65   \n",
       "18203  https://cdn.sofifa.org/flags/46.png       47         63   \n",
       "18204  https://cdn.sofifa.org/flags/14.png       47         67   \n",
       "18205  https://cdn.sofifa.org/flags/14.png       47         66   \n",
       "18206  https://cdn.sofifa.org/flags/14.png       46         66   \n",
       "\n",
       "                      Club  ... Composure Marking StandingTackle  \\\n",
       "0             FC Barcelona  ...      96.0    33.0           28.0   \n",
       "1                 Juventus  ...      95.0    28.0           31.0   \n",
       "2      Paris Saint-Germain  ...      94.0    27.0           24.0   \n",
       "3        Manchester United  ...      68.0    15.0           21.0   \n",
       "4          Manchester City  ...      88.0    68.0           58.0   \n",
       "...                    ...  ...       ...     ...            ...   \n",
       "18202      Crewe Alexandra  ...      45.0    40.0           48.0   \n",
       "18203       Trelleborgs FF  ...      42.0    22.0           15.0   \n",
       "18204     Cambridge United  ...      41.0    32.0           13.0   \n",
       "18205      Tranmere Rovers  ...      46.0    20.0           25.0   \n",
       "18206      Tranmere Rovers  ...      43.0    40.0           43.0   \n",
       "\n",
       "       SlidingTackle GKDiving  GKHandling  GKKicking  GKPositioning  \\\n",
       "0               26.0      6.0        11.0       15.0           14.0   \n",
       "1               23.0      7.0        11.0       15.0           14.0   \n",
       "2               33.0      9.0         9.0       15.0           15.0   \n",
       "3               13.0     90.0        85.0       87.0           88.0   \n",
       "4               51.0     15.0        13.0        5.0           10.0   \n",
       "...              ...      ...         ...        ...            ...   \n",
       "18202           47.0     10.0        13.0        7.0            8.0   \n",
       "18203           19.0     10.0         9.0        9.0            5.0   \n",
       "18204           11.0      6.0         5.0       10.0            6.0   \n",
       "18205           27.0     14.0         6.0       14.0            8.0   \n",
       "18206           50.0     10.0        15.0        9.0           12.0   \n",
       "\n",
       "      GKReflexes Release Clause  \n",
       "0            8.0        €226.5M  \n",
       "1           11.0        €127.1M  \n",
       "2           11.0        €228.1M  \n",
       "3           94.0        €138.6M  \n",
       "4           13.0        €196.4M  \n",
       "...          ...            ...  \n",
       "18202        9.0          €143K  \n",
       "18203       12.0          €113K  \n",
       "18204       13.0          €165K  \n",
       "18205        9.0          €143K  \n",
       "18206        9.0          €165K  \n",
       "\n",
       "[18207 rows x 89 columns]"
      ]
     },
     "execution_count": 3,
     "metadata": {},
     "output_type": "execute_result"
    }
   ],
   "source": [
    "fifa_data=pd.read_csv(\"C:\\\\Users\\\\nikhi\\\\OneDrive\\\\Desktop\\\\fifa_data.csv\")\n",
    "fifa_data"
   ]
  },
  {
   "cell_type": "markdown",
   "id": "0efa9778-b199-4097-9b70-98e189ce5803",
   "metadata": {},
   "source": [
    "# 1.Which country has the most number of players "
   ]
  },
  {
   "cell_type": "code",
   "execution_count": 4,
   "id": "2bc67658-1e6d-4411-b6dc-b652dac23e88",
   "metadata": {},
   "outputs": [
    {
     "data": {
      "text/plain": [
       "Nationality\n",
       "England                 1662\n",
       "Germany                 1198\n",
       "Spain                   1072\n",
       "Argentina                937\n",
       "France                   914\n",
       "                        ... \n",
       "New Caledonia              1\n",
       "Fiji                       1\n",
       "São Tomé & Príncipe        1\n",
       "United Arab Emirates       1\n",
       "Botswana                   1\n",
       "Name: count, Length: 164, dtype: int64"
      ]
     },
     "execution_count": 4,
     "metadata": {},
     "output_type": "execute_result"
    }
   ],
   "source": [
    "fifa_data['Nationality'].value_counts()"
   ]
  },
  {
   "cell_type": "code",
   "execution_count": 5,
   "id": "92564519-7fa9-40d0-b960-706b57f583c4",
   "metadata": {},
   "outputs": [
    {
     "data": {
      "text/plain": [
       "'England'"
      ]
     },
     "execution_count": 5,
     "metadata": {},
     "output_type": "execute_result"
    }
   ],
   "source": [
    "fifa_data['Nationality'].value_counts().idxmax()"
   ]
  },
  {
   "cell_type": "markdown",
   "id": "b81586a9-a0a1-457f-9361-868a53509183",
   "metadata": {},
   "source": [
    "# 2.Plot a bar chart of 5 top countries with the most number of players."
   ]
  },
  {
   "cell_type": "code",
   "execution_count": 6,
   "id": "74ae4480-cf4c-4a9b-b2f2-9d1713b3bf97",
   "metadata": {},
   "outputs": [],
   "source": [
    "import seaborn as sns"
   ]
  },
  {
   "cell_type": "code",
   "execution_count": 7,
   "id": "55a0fef5-d126-4317-96f7-043e67563e5f",
   "metadata": {},
   "outputs": [],
   "source": [
    "import matplotlib.pyplot as plt"
   ]
  },
  {
   "cell_type": "code",
   "execution_count": 25,
   "id": "bf07c3c2-db9a-46e6-b9cc-c355c6c79c8f",
   "metadata": {},
   "outputs": [
    {
     "data": {
      "image/png": "[encoded data removed]",
      "text/plain": [
       "<Figure size 640x480 with 1 Axes>"
      ]
     },
     "metadata": {},
     "output_type": "display_data"
    }
   ],
   "source": [
    "no_of_players=[1662,1198,1072,937,914]\n",
    "nationality=['England','Germany','Spain','Argentina','France']\n",
    "sns.barplot(x=nationality,y=no_of_players)\n",
    "plt.title('Players vs Country')\n",
    "plt.xlabel('countries')\n",
    "plt.ylabel('Number of players')\n",
    "plt.show()"
   ]
  },
  {
   "cell_type": "markdown",
   "id": "74dc2a3b-8da3-496f-8429-9521a95c0f03",
   "metadata": {},
   "source": [
    "# 3.Which player has the highest salary? (score :1)"
   ]
  },
  {
   "cell_type": "code",
   "execution_count": 30,
   "id": "11101cb1-59f1-4ff1-bb19-78d3da43706d",
   "metadata": {},
   "outputs": [
    {
     "data": {
      "text/plain": [
       "0        565.0\n",
       "1        405.0\n",
       "2        290.0\n",
       "3        260.0\n",
       "4        355.0\n",
       "         ...  \n",
       "18202      1.0\n",
       "18203      1.0\n",
       "18204      1.0\n",
       "18205      1.0\n",
       "18206      1.0\n",
       "Name: Wage, Length: 18207, dtype: float64"
      ]
     },
     "execution_count": 30,
     "metadata": {},
     "output_type": "execute_result"
    }
   ],
   "source": [
    "fifa_data[fifa_data.columns[12]]=fifa_data[fifa_data.columns[12]].replace('[^.0-9]','',regex=True).astype(float)\n",
    "\n",
    "fifa_data['Wage']"
   ]
  },
  {
   "cell_type": "code",
   "execution_count": 31,
   "id": "02d0fc58-f970-46e8-a9a5-8c62459dcf9d",
   "metadata": {},
   "outputs": [
    {
     "name": "stdout",
     "output_type": "stream",
     "text": [
      "Players with highest salary\n"
     ]
    },
    {
     "data": {
      "text/html": [
       "<div>\n",
       "<style scoped>\n",
       "    .dataframe tbody tr th:only-of-type {\n",
       "        vertical-align: middle;\n",
       "    }\n",
       "\n",
       "    .dataframe tbody tr th {\n",
       "        vertical-align: top;\n",
       "    }\n",
       "\n",
       "    .dataframe thead th {\n",
       "        text-align: right;\n",
       "    }\n",
       "</style>\n",
       "<table border=\"1\" class=\"dataframe\">\n",
       "  <thead>\n",
       "    <tr style=\"text-align: right;\">\n",
       "      <th></th>\n",
       "      <th>Name</th>\n",
       "      <th>Nationality</th>\n",
       "      <th>Wage</th>\n",
       "    </tr>\n",
       "  </thead>\n",
       "  <tbody>\n",
       "    <tr>\n",
       "      <th>0</th>\n",
       "      <td>L. Messi</td>\n",
       "      <td>Argentina</td>\n",
       "      <td>565.0</td>\n",
       "    </tr>\n",
       "  </tbody>\n",
       "</table>\n",
       "</div>"
      ],
      "text/plain": [
       "       Name Nationality   Wage\n",
       "0  L. Messi   Argentina  565.0"
      ]
     },
     "execution_count": 31,
     "metadata": {},
     "output_type": "execute_result"
    }
   ],
   "source": [
    "print('Players with highest salary')\n",
    "fifa_data[['Name','Nationality','Wage']][fifa_data['Wage']==fifa_data['Wage'].max()]"
   ]
  },
  {
   "cell_type": "code",
   "execution_count": null,
   "id": "4c83c833-0175-4a91-8ebc-b05051f1f481",
   "metadata": {},
   "outputs": [],
   "source": [
    "#Insight:"
   ]
  },
  {
   "cell_type": "markdown",
   "id": "39712c23-409f-44ba-93e9-6b35d1a5b459",
   "metadata": {},
   "source": [
    "# 4.Plot a histogram to get the salary range of the players."
   ]
  },
  {
   "cell_type": "code",
   "execution_count": 32,
   "id": "1bddea74-a602-4a6c-a21c-8c2670797239",
   "metadata": {},
   "outputs": [
    {
     "data": {
      "image/png": "[encoded data removed]",
      "text/plain": [
       "<Figure size 640x480 with 1 Axes>"
      ]
     },
     "metadata": {},
     "output_type": "display_data"
    }
   ],
   "source": [
    "plt.hist('Wage',data=fifa_data)\n",
    "plt.title('Salary range of players',color='r')\n",
    "plt.show()"
   ]
  },
  {
   "cell_type": "markdown",
   "id": "0946115b-b83a-4a88-8b53-71c8c1ac59de",
   "metadata": {},
   "source": [
    "# 5.Who is the tallest player in the fifa?"
   ]
  },
  {
   "cell_type": "code",
   "execution_count": 28,
   "id": "ebe27129-0cd3-43b1-a0ed-1200367454ee",
   "metadata": {},
   "outputs": [
    {
     "name": "stdout",
     "output_type": "stream",
     "text": [
      "<class 'pandas.core.frame.DataFrame'>\n",
      "RangeIndex: 18207 entries, 0 to 18206\n",
      "Data columns (total 89 columns):\n",
      " #   Column                    Non-Null Count  Dtype  \n",
      "---  ------                    --------------  -----  \n",
      " 0   Unnamed: 0                18207 non-null  int64  \n",
      " 1   ID                        18207 non-null  int64  \n",
      " 2   Name                      18207 non-null  object \n",
      " 3   Age                       18207 non-null  int64  \n",
      " 4   Photo                     18207 non-null  object \n",
      " 5   Nationality               18207 non-null  object \n",
      " 6   Flag                      18207 non-null  object \n",
      " 7   Overall                   18207 non-null  int64  \n",
      " 8   Potential                 18207 non-null  int64  \n",
      " 9   Club                      17966 non-null  object \n",
      " 10  Club Logo                 18207 non-null  object \n",
      " 11  Value                     18207 non-null  object \n",
      " 12  Wage                      18207 non-null  object \n",
      " 13  Special                   18207 non-null  int64  \n",
      " 14  Preferred Foot            18159 non-null  object \n",
      " 15  International Reputation  18159 non-null  float64\n",
      " 16  Weak Foot                 18159 non-null  float64\n",
      " 17  Skill Moves               18159 non-null  float64\n",
      " 18  Work Rate                 18159 non-null  object \n",
      " 19  Body Type                 18159 non-null  object \n",
      " 20  Real Face                 18159 non-null  object \n",
      " 21  Position                  18147 non-null  object \n",
      " 22  Jersey Number             18147 non-null  float64\n",
      " 23  Joined                    16654 non-null  object \n",
      " 24  Loaned From               1264 non-null   object \n",
      " 25  Contract Valid Until      17918 non-null  object \n",
      " 26  Height                    18159 non-null  object \n",
      " 27  Weight                    18159 non-null  object \n",
      " 28  LS                        16122 non-null  object \n",
      " 29  ST                        16122 non-null  object \n",
      " 30  RS                        16122 non-null  object \n",
      " 31  LW                        16122 non-null  object \n",
      " 32  LF                        16122 non-null  object \n",
      " 33  CF                        16122 non-null  object \n",
      " 34  RF                        16122 non-null  object \n",
      " 35  RW                        16122 non-null  object \n",
      " 36  LAM                       16122 non-null  object \n",
      " 37  CAM                       16122 non-null  object \n",
      " 38  RAM                       16122 non-null  object \n",
      " 39  LM                        16122 non-null  object \n",
      " 40  LCM                       16122 non-null  object \n",
      " 41  CM                        16122 non-null  object \n",
      " 42  RCM                       16122 non-null  object \n",
      " 43  RM                        16122 non-null  object \n",
      " 44  LWB                       16122 non-null  object \n",
      " 45  LDM                       16122 non-null  object \n",
      " 46  CDM                       16122 non-null  object \n",
      " 47  RDM                       16122 non-null  object \n",
      " 48  RWB                       16122 non-null  object \n",
      " 49  LB                        16122 non-null  object \n",
      " 50  LCB                       16122 non-null  object \n",
      " 51  CB                        16122 non-null  object \n",
      " 52  RCB                       16122 non-null  object \n",
      " 53  RB                        16122 non-null  object \n",
      " 54  Crossing                  18159 non-null  float64\n",
      " 55  Finishing                 18159 non-null  float64\n",
      " 56  HeadingAccuracy           18159 non-null  float64\n",
      " 57  ShortPassing              18159 non-null  float64\n",
      " 58  Volleys                   18159 non-null  float64\n",
      " 59  Dribbling                 18159 non-null  float64\n",
      " 60  Curve                     18159 non-null  float64\n",
      " 61  FKAccuracy                18159 non-null  float64\n",
      " 62  LongPassing               18159 non-null  float64\n",
      " 63  BallControl               18159 non-null  float64\n",
      " 64  Acceleration              18159 non-null  float64\n",
      " 65  SprintSpeed               18159 non-null  float64\n",
      " 66  Agility                   18159 non-null  float64\n",
      " 67  Reactions                 18159 non-null  float64\n",
      " 68  Balance                   18159 non-null  float64\n",
      " 69  ShotPower                 18159 non-null  float64\n",
      " 70  Jumping                   18159 non-null  float64\n",
      " 71  Stamina                   18159 non-null  float64\n",
      " 72  Strength                  18159 non-null  float64\n",
      " 73  LongShots                 18159 non-null  float64\n",
      " 74  Aggression                18159 non-null  float64\n",
      " 75  Interceptions             18159 non-null  float64\n",
      " 76  Positioning               18159 non-null  float64\n",
      " 77  Vision                    18159 non-null  float64\n",
      " 78  Penalties                 18159 non-null  float64\n",
      " 79  Composure                 18159 non-null  float64\n",
      " 80  Marking                   18159 non-null  float64\n",
      " 81  StandingTackle            18159 non-null  float64\n",
      " 82  SlidingTackle             18159 non-null  float64\n",
      " 83  GKDiving                  18159 non-null  float64\n",
      " 84  GKHandling                18159 non-null  float64\n",
      " 85  GKKicking                 18159 non-null  float64\n",
      " 86  GKPositioning             18159 non-null  float64\n",
      " 87  GKReflexes                18159 non-null  float64\n",
      " 88  Release Clause            16643 non-null  float64\n",
      "dtypes: float64(39), int64(6), object(44)\n",
      "memory usage: 12.4+ MB\n"
     ]
    }
   ],
   "source": [
    "fifa_data.info()\n"
   ]
  },
  {
   "cell_type": "code",
   "execution_count": null,
   "id": "a8be976f-2deb-42e2-af28-c620056e4b71",
   "metadata": {},
   "outputs": [],
   "source": [
    "conversion=[30.48, 2.54]\n",
    "fifa_data['Height'] =fifa_data[ fifa_data['Height'].str.split(\"'\").apply(pd.Series).astype(float).dot(conversion)]"
   ]
  },
  {
   "cell_type": "code",
   "execution_count": 45,
   "id": "dd70f151-61dd-4aaa-8bbe-fd59f959f691",
   "metadata": {},
   "outputs": [
    {
     "data": {
      "text/plain": [
       "0        170.18\n",
       "1        187.96\n",
       "2        175.26\n",
       "3        193.04\n",
       "4        180.34\n",
       "          ...  \n",
       "18202    175.26\n",
       "18203    190.50\n",
       "18204    172.72\n",
       "18205    177.80\n",
       "18206    177.80\n",
       "Name: Height, Length: 18207, dtype: float64"
      ]
     },
     "execution_count": 45,
     "metadata": {},
     "output_type": "execute_result"
    }
   ],
   "source": [
    "fifa_data['Height']"
   ]
  },
  {
   "cell_type": "code",
   "execution_count": 48,
   "id": "d8823852-fef3-4f97-9a32-dc3c90632b35",
   "metadata": {},
   "outputs": [
    {
     "data": {
      "text/html": [
       "<div>\n",
       "<style scoped>\n",
       "    .dataframe tbody tr th:only-of-type {\n",
       "        vertical-align: middle;\n",
       "    }\n",
       "\n",
       "    .dataframe tbody tr th {\n",
       "        vertical-align: top;\n",
       "    }\n",
       "\n",
       "    .dataframe thead th {\n",
       "        text-align: right;\n",
       "    }\n",
       "</style>\n",
       "<table border=\"1\" class=\"dataframe\">\n",
       "  <thead>\n",
       "    <tr style=\"text-align: right;\">\n",
       "      <th></th>\n",
       "      <th>Name</th>\n",
       "      <th>Nationality</th>\n",
       "      <th>Height</th>\n",
       "    </tr>\n",
       "  </thead>\n",
       "  <tbody>\n",
       "    <tr>\n",
       "      <th>11614</th>\n",
       "      <td>T. Holý</td>\n",
       "      <td>Czech Republic</td>\n",
       "      <td>205.74</td>\n",
       "    </tr>\n",
       "    <tr>\n",
       "      <th>17927</th>\n",
       "      <td>D. Hodzic</td>\n",
       "      <td>Croatia</td>\n",
       "      <td>205.74</td>\n",
       "    </tr>\n",
       "  </tbody>\n",
       "</table>\n",
       "</div>"
      ],
      "text/plain": [
       "            Name     Nationality  Height\n",
       "11614    T. Holý  Czech Republic  205.74\n",
       "17927  D. Hodzic         Croatia  205.74"
      ]
     },
     "execution_count": 48,
     "metadata": {},
     "output_type": "execute_result"
    }
   ],
   "source": [
    "fifa_data[['Name','Nationality','Height']][fifa_data['Height']==fifa_data['Height'].max()]"
   ]
  },
  {
   "cell_type": "code",
   "execution_count": null,
   "id": "0060142d-b660-425b-80b0-60211420daf5",
   "metadata": {},
   "outputs": [],
   "source": [
    "#Insight: tallest is two guys with same hight, they are- T.Holy of Czech Replubic and d.Hodzic of Croatia"
   ]
  },
  {
   "cell_type": "markdown",
   "id": "80f5709b-3eba-4af3-b404-fa98404db091",
   "metadata": {},
   "source": [
    "# 6.Which club has the most number of players? "
   ]
  },
  {
   "cell_type": "code",
   "execution_count": 54,
   "id": "54fbc028-8a35-4508-98cc-4f5ac6c5b9d8",
   "metadata": {},
   "outputs": [
    {
     "name": "stdout",
     "output_type": "stream",
     "text": [
      "the club with most number of players:\n"
     ]
    },
    {
     "data": {
      "text/plain": [
       "'FC Barcelona'"
      ]
     },
     "execution_count": 54,
     "metadata": {},
     "output_type": "execute_result"
    }
   ],
   "source": [
    "print('The club with most number of players:')\n",
    "fifa_data['Club'].value_counts().idxmax()"
   ]
  },
  {
   "cell_type": "code",
   "execution_count": null,
   "id": "b31a8908-456b-4015-bedd-6f7ff17bd5ab",
   "metadata": {},
   "outputs": [],
   "source": [
    "#insight: the club with most number of players is FC Barcelona"
   ]
  },
  {
   "cell_type": "markdown",
   "id": "cd78eabf-367b-4fce-ad83-df65bd2f98f1",
   "metadata": {},
   "source": [
    "# 7.Which foot is most preferred by the players?Draw a bar chart for preferred foot"
   ]
  },
  {
   "cell_type": "code",
   "execution_count": 61,
   "id": "67e9fafa-e71c-4fc2-a16b-74434bab2785",
   "metadata": {},
   "outputs": [
    {
     "name": "stdout",
     "output_type": "stream",
     "text": [
      "most preferred foot:\n"
     ]
    },
    {
     "data": {
      "text/plain": [
       "'Right'"
      ]
     },
     "execution_count": 61,
     "metadata": {},
     "output_type": "execute_result"
    }
   ],
   "source": [
    "print('most preferred foot:')\n",
    "fifa_data['Preferred Foot'].value_counts().idxmax()"
   ]
  },
  {
   "cell_type": "code",
   "execution_count": 69,
   "id": "325a2e8f-6e05-44ee-9891-e5449895b96c",
   "metadata": {},
   "outputs": [
    {
     "data": {
      "image/png": "[encoded data removed]",
      "text/plain": [
       "<Figure size 640x480 with 1 Axes>"
      ]
     },
     "metadata": {},
     "output_type": "display_data"
    }
   ],
   "source": [
    "foots=fifa_data['Preferred Foot'].value_counts()\n",
    "sns.barplot(foots)\n",
    "plt.xlabel('Preferred Foot')\n",
    "plt.ylabel('Number of players')\n",
    "plt.title('Prefered foot vs number of players')\n",
    "plt.show()"
   ]
  },
  {
   "cell_type": "code",
   "execution_count": null,
   "id": "9ca1ab10-4c4f-46d6-ab9c-deea7174daac",
   "metadata": {},
   "outputs": [],
   "source": [
    "# Insight: right foot is used by most number of players."
   ]
  }
 ],
 "metadata": {
  "kernelspec": {
   "display_name": "Python 3 (ipykernel)",
   "language": "python",
   "name": "python3"
  },
  "language_info": {
   "codemirror_mode": {
    "name": "ipython",
    "version": 3
   },
   "file_extension": ".py",
   "mimetype": "text/x-python",
   "name": "python",
   "nbconvert_exporter": "python",
   "pygments_lexer": "ipython3",
   "version": "3.12.2"
  }
 },
 "nbformat": 4,
 "nbformat_minor": 5
}
